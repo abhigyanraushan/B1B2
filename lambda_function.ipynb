{
 "cells": [
  {
   "cell_type": "code",
   "execution_count": 1,
   "id": "e3166beb-56e1-4790-b52e-11d7a2995553",
   "metadata": {},
   "outputs": [
    {
     "name": "stdout",
     "output_type": "stream",
     "text": [
      "Current time (in seconds): 1727201195.5266783\n"
     ]
    }
   ],
   "source": [
    "# getting current time\n",
    "\n",
    "import time\n",
    "  # Get the current time in seconds since the epoch (Unix timestamp)\n",
    "current_time = time.time()\n",
    "print(\"Current time (in seconds):\", current_time)"
   ]
  },
  {
   "cell_type": "code",
   "execution_count": 5,
   "id": "9ee1a96b-6aba-445a-aced-bd3c5c494898",
   "metadata": {},
   "outputs": [
    {
     "name": "stdout",
     "output_type": "stream",
     "text": [
      "8\n"
     ]
    }
   ],
   "source": [
    "# lambda function: used only one time\n",
    "\n",
    "add = lambda a, b: a + b   # a,b are the argument  and after colon(:) is the return value\n",
    "print(add(3, 5))"
   ]
  },
  {
   "cell_type": "code",
   "execution_count": 2,
   "id": "f187acee-e156-4d7d-94b0-e917b5a336aa",
   "metadata": {},
   "outputs": [
    {
     "name": "stdout",
     "output_type": "stream",
     "text": [
      "Start\n",
      " Current time (in seconds): 1727201210.7053728\n",
      "End after 2 seconds\n",
      "Current time (in seconds): 1727201212.7161217\n"
     ]
    }
   ],
   "source": [
    "print(\"Start\")\n",
    "current_time = time.time()\n",
    "print(\" Current time (in seconds):\", current_time)\n",
    "time.sleep(2)  # Pausing the execution execution for 2 seconds\n",
    "print(\"End after 2 seconds\")\n",
    "current_time = time.time()\n",
    "print(\"Current time (in seconds):\", current_time)\n",
    "  "
   ]
  },
  {
   "cell_type": "code",
   "execution_count": 3,
   "id": "8518f76f-0397-420d-b23f-f381c1ef3dc2",
   "metadata": {},
   "outputs": [
    {
     "name": "stdout",
     "output_type": "stream",
     "text": [
      "Start\n",
      " Current time (HH:MM:SS): 23:38:10\n",
      "End after 2 seconds\n",
      "Current time (HH:MM:SS): 23:38:12\n"
     ]
    }
   ],
   "source": [
    "#printing the current time using hh:mm::ss format\n",
    "\n",
    "import time\n",
    "\n",
    "print(\"Start\")\n",
    "current_time = time.time()\n",
    "formatted_time = time.strftime('%H:%M:%S', time.localtime(current_time))\n",
    "print(\" Current time (HH:MM:SS):\", formatted_time)\n",
    "\n",
    "time.sleep(2)  # Pauses execution for 2 sec\n",
    "\n",
    "print(\"End after 2 seconds\")\n",
    "current_time = time.time()\n",
    "formatted_time = time.strftime('%H:%M:%S', time.localtime(current_time))\n",
    "print(\"Current time (HH:MM:SS):\", formatted_time)"
   ]
  },
  {
   "cell_type": "code",
   "execution_count": null,
   "id": "28327308-1832-4ce1-9c57-878e23344266",
   "metadata": {},
   "outputs": [],
   "source": []
  },
  {
   "cell_type": "code",
   "execution_count": 4,
   "id": "313b06f5-6f00-4867-8389-dc40d413f17a",
   "metadata": {},
   "outputs": [
    {
     "name": "stdout",
     "output_type": "stream",
     "text": [
      "Current working directory: C:\\Users\\ABHIGYAN RAUSHAN\\Desktop\\jupyter projects\n"
     ]
    }
   ],
   "source": [
    "#write a program that take directory address from the user and return a list of file in the directory in that list\n",
    "\n",
    "\n",
    "import os\n",
    "# Get the current working directory\n",
    "cwd = os.getcwd()\n",
    "print(\"Current working directory:\", cwd)\n",
    "  \n"
   ]
  },
  {
   "cell_type": "code",
   "execution_count": null,
   "id": "d2bd35b9-7664-4e5a-810f-c61ae4be70d2",
   "metadata": {},
   "outputs": [],
   "source": []
  }
 ],
 "metadata": {
  "kernelspec": {
   "display_name": "Python 3 (ipykernel)",
   "language": "python",
   "name": "python3"
  },
  "language_info": {
   "codemirror_mode": {
    "name": "ipython",
    "version": 3
   },
   "file_extension": ".py",
   "mimetype": "text/x-python",
   "name": "python",
   "nbconvert_exporter": "python",
   "pygments_lexer": "ipython3",
   "version": "3.12.6"
  }
 },
 "nbformat": 4,
 "nbformat_minor": 5
}
