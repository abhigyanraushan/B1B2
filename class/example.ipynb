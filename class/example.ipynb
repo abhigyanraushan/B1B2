{
 "cells": [
  {
   "cell_type": "code",
   "execution_count": null,
   "id": "e6f7b307-3e75-4d11-a4e0-ca382f073684",
   "metadata": {},
   "outputs": [],
   "source": [
    "class Dog:\n",
    "    species=\"coins familiars\"\n",
    "    def __init__(self, name, age):\n",
    "        self.name=name\n",
    "        self.age=age\n",
    "        #self.__age=age-->private property.\n",
    "    def bark(self):\n",
    "        return f\"{self.name} says woof!\"\n",
    "    def get_age(self):\n",
    "        return f\"{self.name} is {self.age} years old\"\n",
    "    def __str__(self):\n",
    "        return f\"{self.name} is a {self.age} year old {self.species}\"   #custom representation for object when it is printed.\n",
    "\n",
    "class cat:\n",
    "    species=\"Cat species\"\n",
    "    def __init__(self, name, age):\n",
    "        self.name=name\n",
    "        self.age=age\n",
    "    def mew(self):\n",
    "        return f\"{self.name} says meow!\"\n",
    "    def get_age(self):\n",
    "        return f\"{self.name} is {self.age} years old\"\n",
    "    \n",
    "dog1=Dog(\"Buddy\",3)\n",
    "dog2=Dog(\"Charlie\",5)\n",
    "\n",
    "cat1=cat(\"tom\",3)\n",
    "\n",
    "print(cat1.get_age())\n",
    "print(dog2.bark())\n",
    "print(dog1.get_age())\n",
    "print(dog1.species)\n",
    "#print(dog1.__age)  --> Can't be accessed outside the class..\n",
    "print(dog1)#output->Buddy is a 3 year old coins familiars"
   ]
  }
 ],
 "metadata": {
  "kernelspec": {
   "display_name": "Python 3 (ipykernel)",
   "language": "python",
   "name": "python3"
  },
  "language_info": {
   "codemirror_mode": {
    "name": "ipython",
    "version": 3
   },
   "file_extension": ".py",
   "mimetype": "text/x-python",
   "name": "python",
   "nbconvert_exporter": "python",
   "pygments_lexer": "ipython3",
   "version": "3.12.6"
  }
 },
 "nbformat": 4,
 "nbformat_minor": 5
}
