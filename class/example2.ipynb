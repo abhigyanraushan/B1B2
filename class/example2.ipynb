{
 "cells": [
  {
   "cell_type": "code",
   "execution_count": null,
   "id": "357b03a1-e916-4e65-9e38-11991b358891",
   "metadata": {},
   "outputs": [],
   "source": [
    "class Animal:\n",
    "    def __init__(self, name, age):\n",
    "        self.name = name\n",
    "        self.age = age\n",
    "        self.__age=age\n",
    "    def get_age(self):\n",
    "        return f\"{self.name} is {self.age} years old\"\n",
    "    def __str__(self):\n",
    "        return f\"{self.name} is {self.__age} years old\"\n",
    "\n",
    "class Dog(Animal):#inherting animal\n",
    "    species=\"GOLDEN RETRIVER\"\n",
    "    def bark(self):\n",
    "        return f\"{self.name} says Woof!\"\n",
    "\n",
    "class Cat(Animal):#inheriring animal\n",
    "    Species=\"CAT SPECIES\"\n",
    "    def meow(self):\n",
    "        return f\"{self.name} says Meow!\"\n",
    "\n",
    "\n",
    "\n",
    "dog1=Dog(\"d1\",3)\n",
    "cat1=Cat(\"c1\",3)\n",
    "\n",
    "print(dog1)\n",
    "print(cat1)\n",
    "print(dog1.bark)\n",
    "print(cat1.meow)"
   ]
  }
 ],
 "metadata": {
  "kernelspec": {
   "display_name": "Python 3 (ipykernel)",
   "language": "python",
   "name": "python3"
  },
  "language_info": {
   "codemirror_mode": {
    "name": "ipython",
    "version": 3
   },
   "file_extension": ".py",
   "mimetype": "text/x-python",
   "name": "python",
   "nbconvert_exporter": "python",
   "pygments_lexer": "ipython3",
   "version": "3.12.6"
  }
 },
 "nbformat": 4,
 "nbformat_minor": 5
}
