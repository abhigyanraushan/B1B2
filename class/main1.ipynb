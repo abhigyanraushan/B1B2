{
 "cells": [
  {
   "cell_type": "code",
   "execution_count": null,
   "id": "0c3cd470-6d10-4567-88c2-64b5617f33a3",
   "metadata": {},
   "outputs": [],
   "source": [
    "from dog import Dog\n",
    "from cat import Cat\n",
    "\n",
    "dog1=Dog(\"d1\",3)\n",
    "cat1=Cat(\"c1\",4)\n",
    "\n",
    "print(dog1)\n",
    "print(cat1)"
   ]
  }
 ],
 "metadata": {
  "kernelspec": {
   "display_name": "Python 3 (ipykernel)",
   "language": "python",
   "name": "python3"
  },
  "language_info": {
   "codemirror_mode": {
    "name": "ipython",
    "version": 3
   },
   "file_extension": ".py",
   "mimetype": "text/x-python",
   "name": "python",
   "nbconvert_exporter": "python",
   "pygments_lexer": "ipython3",
   "version": "3.12.6"
  }
 },
 "nbformat": 4,
 "nbformat_minor": 5
}
