{
 "cells": [
  {
   "cell_type": "code",
   "execution_count": 1,
   "id": "ea59f3e4-eb40-4bb9-9910-02653cacdfc9",
   "metadata": {},
   "outputs": [
    {
     "ename": "ModuleNotFoundError",
     "evalue": "No module named 'animal'",
     "output_type": "error",
     "traceback": [
      "\u001b[1;31m---------------------------------------------------------------------------\u001b[0m",
      "\u001b[1;31mModuleNotFoundError\u001b[0m                       Traceback (most recent call last)",
      "Cell \u001b[1;32mIn[1], line 1\u001b[0m\n\u001b[1;32m----> 1\u001b[0m \u001b[38;5;28;01mfrom\u001b[39;00m \u001b[38;5;21;01manimal\u001b[39;00m \u001b[38;5;28;01mimport\u001b[39;00m Animal\n\u001b[0;32m      3\u001b[0m \u001b[38;5;28;01mclass\u001b[39;00m \u001b[38;5;21;01mCat\u001b[39;00m(Animal):\u001b[38;5;66;03m#inheriring animal\u001b[39;00m\n\u001b[0;32m      4\u001b[0m     Species\u001b[38;5;241m=\u001b[39m\u001b[38;5;124m\"\u001b[39m\u001b[38;5;124mCAT SPECIES\u001b[39m\u001b[38;5;124m\"\u001b[39m\n",
      "\u001b[1;31mModuleNotFoundError\u001b[0m: No module named 'animal'"
     ]
    }
   ],
   "source": [
    "from animal import Animal\n",
    "\n",
    "class Cat(Animal):#inheriring animal\n",
    "    Species=\"CAT SPECIES\"\n",
    "    def meow(self):\n",
    "        return f\"{self.name} says Meow!\""
   ]
  },
  {
   "cell_type": "code",
   "execution_count": null,
   "id": "583071a8-c22c-420f-858f-434a2e238aa3",
   "metadata": {},
   "outputs": [],
   "source": []
  }
 ],
 "metadata": {
  "kernelspec": {
   "display_name": "Python 3 (ipykernel)",
   "language": "python",
   "name": "python3"
  },
  "language_info": {
   "codemirror_mode": {
    "name": "ipython",
    "version": 3
   },
   "file_extension": ".py",
   "mimetype": "text/x-python",
   "name": "python",
   "nbconvert_exporter": "python",
   "pygments_lexer": "ipython3",
   "version": "3.12.6"
  }
 },
 "nbformat": 4,
 "nbformat_minor": 5
}
