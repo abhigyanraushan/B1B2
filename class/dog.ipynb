{
 "cells": [
  {
   "cell_type": "code",
   "execution_count": null,
   "id": "44572cee-a4ca-4977-8d92-35b9b4608e14",
   "metadata": {},
   "outputs": [],
   "source": [
    "from animal import Animal\n",
    "class Dog(Animal):#inherting animal\n",
    "    species=\"GOLDEN RETRIVER\"\n",
    "    def bark(self):\n",
    "        return f\"{self.name} says Woof!\""
   ]
  }
 ],
 "metadata": {
  "kernelspec": {
   "display_name": "Python 3 (ipykernel)",
   "language": "python",
   "name": "python3"
  },
  "language_info": {
   "codemirror_mode": {
    "name": "ipython",
    "version": 3
   },
   "file_extension": ".py",
   "mimetype": "text/x-python",
   "name": "python",
   "nbconvert_exporter": "python",
   "pygments_lexer": "ipython3",
   "version": "3.12.6"
  }
 },
 "nbformat": 4,
 "nbformat_minor": 5
}
