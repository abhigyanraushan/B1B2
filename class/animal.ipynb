{
 "cells": [
  {
   "cell_type": "code",
   "execution_count": 1,
   "id": "97336f72-1c0c-4cd2-b28f-18ec0598eed3",
   "metadata": {},
   "outputs": [],
   "source": [
    "class Animal:\n",
    "    def __init__(self, name, age):\n",
    "        self.name = name\n",
    "        self.age = age\n",
    "        self.__age=age #private\n",
    "    def get_age(self):\n",
    "        return f\"{self.name} is {self.age} years old\"\n",
    "    def __str__(self):\n",
    "        return f\"{self.name} is {self.__age} years old\""
   ]
  },
  {
   "cell_type": "code",
   "execution_count": null,
   "id": "79db88ce-189e-41b1-a819-c73041c07853",
   "metadata": {},
   "outputs": [],
   "source": []
  }
 ],
 "metadata": {
  "kernelspec": {
   "display_name": "Python 3 (ipykernel)",
   "language": "python",
   "name": "python3"
  },
  "language_info": {
   "codemirror_mode": {
    "name": "ipython",
    "version": 3
   },
   "file_extension": ".py",
   "mimetype": "text/x-python",
   "name": "python",
   "nbconvert_exporter": "python",
   "pygments_lexer": "ipython3",
   "version": "3.12.6"
  }
 },
 "nbformat": 4,
 "nbformat_minor": 5
}
