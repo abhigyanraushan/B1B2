{
 "cells": [
  {
   "cell_type": "code",
   "execution_count": 1,
   "id": "c28535e6-6391-4753-9d3b-450c4830d5ba",
   "metadata": {},
   "outputs": [
    {
     "name": "stdout",
     "output_type": "stream",
     "text": [
      "1\n",
      "15\n"
     ]
    },
    {
     "data": {
      "text/plain": [
       "\"\\nClass Method\\nDefinition: A class method is a method that is bound to the class rather than its object. It can modify the class state that applies across all instances of the class.\\nDecorator: It is defined using the @classmethod decorator.\\nFirst Parameter: The first parameter is typically named cls, which refers to the class itself.\\n\\n\\nStatic Method\\nDefinition: A static method is a method that does not access or modify the class or instance state. It behaves like a regular function but lives in the class's namespace.\\nDecorator: It is defined using the @staticmethod decorator.\\nParameters: It does not take self or cls as its first parameter.\\n\""
      ]
     },
     "execution_count": 1,
     "metadata": {},
     "output_type": "execute_result"
    }
   ],
   "source": [
    "# define class method and static method in python with example ..\n",
    "\n",
    "class MyClass:\n",
    "    class_variable = 0\n",
    "\n",
    "    @classmethod\n",
    "    def increment_class_variable(cls):\n",
    "        cls.class_variable += 1\n",
    "\n",
    "# Usage\n",
    "MyClass.increment_class_variable()\n",
    "print(MyClass.class_variable)  # Output: 1\n",
    "\n",
    "\n",
    "class MyClass1:\n",
    "    @staticmethod\n",
    "    def multiply(x, y):\n",
    "        return x * y\n",
    "\n",
    "# Usage\n",
    "result = MyClass1.multiply(5, 3)\n",
    "print(result)  # Output: 15\n",
    "\n",
    "\"\"\"\n",
    "Class Method\n",
    "Definition: A class method is a method that is bound to the class rather than its object. It can modify the class state that applies across all instances of the class.\n",
    "Decorator: It is defined using the @classmethod decorator.\n",
    "First Parameter: The first parameter is typically named cls, which refers to the class itself.\n",
    "\n",
    "\n",
    "Static Method\n",
    "Definition: A static method is a method that does not access or modify the class or instance state. It behaves like a regular function but lives in the class's namespace.\n",
    "Decorator: It is defined using the @staticmethod decorator.\n",
    "Parameters: It does not take self or cls as its first parameter.\n",
    "\"\"\""
   ]
  },
  {
   "cell_type": "code",
   "execution_count": null,
   "id": "444a73f7-f748-4e1b-b252-a7074f291d77",
   "metadata": {},
   "outputs": [],
   "source": []
  }
 ],
 "metadata": {
  "kernelspec": {
   "display_name": "Python 3 (ipykernel)",
   "language": "python",
   "name": "python3"
  },
  "language_info": {
   "codemirror_mode": {
    "name": "ipython",
    "version": 3
   },
   "file_extension": ".py",
   "mimetype": "text/x-python",
   "name": "python",
   "nbconvert_exporter": "python",
   "pygments_lexer": "ipython3",
   "version": "3.12.6"
  }
 },
 "nbformat": 4,
 "nbformat_minor": 5
}
