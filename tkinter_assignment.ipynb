{
 "cells": [
  {
   "cell_type": "code",
   "execution_count": 3,
   "id": "21d6ac90-77d1-497c-8d5f-ea0cc926d97f",
   "metadata": {},
   "outputs": [
    {
     "name": "stdout",
     "output_type": "stream",
     "text": [
      "Name: Abhigyan\n",
      "SAPID: 590018710\n",
      "Course: mca\n",
      "Phone: 87898545555`\n"
     ]
    }
   ],
   "source": [
    "import tkinter as tk\n",
    "from tkinter import messagebox\n",
    "\n",
    "\n",
    "def submit_details():\n",
    "    name = name_entry.get()\n",
    "    sapid = sapid_entry.get()\n",
    "    course = course_entry.get()\n",
    "    phone = phone_entry.get()\n",
    "\n",
    "    print(f\"Name: {name}\")\n",
    "    print(f\"SAPID: {sapid}\")\n",
    "    print(f\"Course: {course}\")\n",
    "    print(f\"Phone: {phone}\")\n",
    "\n",
    "    messagebox.showinfo(\"Submitted\", \"Details submitted successfully!\")\n",
    "\n",
    "\n",
    "root = tk.Tk()\n",
    "root.title(\"File Organizer\")\n",
    "\n",
    "name_label = tk.Label(root, text=\"Name:\")\n",
    "name_label.grid(row=0, column=0, padx=10, pady=5)\n",
    "name_entry = tk.Entry(root)\n",
    "name_entry.grid(row=0, column=1, padx=10, pady=5)\n",
    "\n",
    "sapid_label = tk.Label(root, text=\"SAPID:\")\n",
    "sapid_label.grid(row=1, column=0, padx=10, pady=5)\n",
    "sapid_entry = tk.Entry(root)\n",
    "sapid_entry.grid(row=1, column=1, padx=10, pady=5)\n",
    "\n",
    "course_label = tk.Label(root, text=\"Course:\")\n",
    "course_label.grid(row=2, column=0, padx=10, pady=5)\n",
    "course_entry = tk.Entry(root)\n",
    "course_entry.grid(row=2, column=1, padx=10, pady=5)\n",
    "\n",
    "phone_label = tk.Label(root, text=\"Phone:\")\n",
    "phone_label.grid(row=3, column=0, padx=10, pady=5)\n",
    "phone_entry = tk.Entry(root)\n",
    "phone_entry.grid(row=3, column=1, padx=10, pady=5)\n",
    "\n",
    "# Submit button hain\n",
    "submit_button = tk.Button(root, text=\"Submit\", command=submit_details)\n",
    "submit_button.grid(row=4, column=1, pady=10)\n",
    "\n",
    "root.mainloop()"
   ]
  },
  {
   "cell_type": "code",
   "execution_count": null,
   "id": "0e5724bb-7e6f-4b8a-ba4e-63892da8c8e3",
   "metadata": {},
   "outputs": [],
   "source": []
  }
 ],
 "metadata": {
  "kernelspec": {
   "display_name": "Python 3 (ipykernel)",
   "language": "python",
   "name": "python3"
  },
  "language_info": {
   "codemirror_mode": {
    "name": "ipython",
    "version": 3
   },
   "file_extension": ".py",
   "mimetype": "text/x-python",
   "name": "python",
   "nbconvert_exporter": "python",
   "pygments_lexer": "ipython3",
   "version": "3.12.6"
  }
 },
 "nbformat": 4,
 "nbformat_minor": 5
}
