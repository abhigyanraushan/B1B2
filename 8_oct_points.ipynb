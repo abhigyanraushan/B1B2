{
 "cells": [
  {
   "cell_type": "code",
   "execution_count": 1,
   "id": "acdd9d7d-dc20-4c93-8d36-3a79ddbc344b",
   "metadata": {},
   "outputs": [
    {
     "ename": "TypeError",
     "evalue": "'int' object is not callable",
     "output_type": "error",
     "traceback": [
      "\u001b[1;31m---------------------------------------------------------------------------\u001b[0m",
      "\u001b[1;31mTypeError\u001b[0m                                 Traceback (most recent call last)",
      "Cell \u001b[1;32mIn[1], line 30\u001b[0m\n\u001b[0;32m     28\u001b[0m     \u001b[38;5;28;01mreturn\u001b[39;00m(r,phi)\n\u001b[0;32m     29\u001b[0m \u001b[38;5;66;03m#distance between two points \u001b[39;00m\n\u001b[1;32m---> 30\u001b[0m \u001b[38;5;28mprint\u001b[39m(\u001b[43mdistance\u001b[49m\u001b[43m(\u001b[49m\u001b[43mp3\u001b[49m\u001b[43m,\u001b[49m\u001b[43mp4\u001b[49m\u001b[43m)\u001b[49m)\n\u001b[0;32m     31\u001b[0m \u001b[38;5;66;03m#calculate polar coordinate \u001b[39;00m\n\u001b[0;32m     32\u001b[0m \u001b[38;5;28mprint\u001b[39m(polar(p1))\n",
      "Cell \u001b[1;32mIn[1], line 19\u001b[0m, in \u001b[0;36mdistance\u001b[1;34m(p1, p2)\u001b[0m\n\u001b[0;32m     17\u001b[0m y1\u001b[38;5;241m=\u001b[39mp1[\u001b[38;5;124m\"\u001b[39m\u001b[38;5;124my\u001b[39m\u001b[38;5;124m\"\u001b[39m]\n\u001b[0;32m     18\u001b[0m y2\u001b[38;5;241m=\u001b[39mp2[\u001b[38;5;124m\"\u001b[39m\u001b[38;5;124my\u001b[39m\u001b[38;5;124m\"\u001b[39m]\n\u001b[1;32m---> 19\u001b[0m d\u001b[38;5;241m=\u001b[39m\u001b[43m(\u001b[49m\u001b[43m(\u001b[49m\u001b[43mx2\u001b[49m\u001b[38;5;241;43m-\u001b[39;49m\u001b[43mx1\u001b[49m\u001b[43m)\u001b[49m\u001b[38;5;241;43m^\u001b[39;49m\u001b[38;5;241;43m2\u001b[39;49m\u001b[43m \u001b[49m\u001b[38;5;241;43m+\u001b[39;49m\u001b[43m \u001b[49m\u001b[43m(\u001b[49m\u001b[43my2\u001b[49m\u001b[38;5;241;43m-\u001b[39;49m\u001b[43my2\u001b[49m\u001b[43m)\u001b[49m\u001b[38;5;241;43m^\u001b[39;49m\u001b[38;5;241;43m2\u001b[39;49m\u001b[43m)\u001b[49m\u001b[43m(\u001b[49m\u001b[38;5;241;43m1\u001b[39;49m\u001b[38;5;241;43m/\u001b[39;49m\u001b[38;5;241;43m2\u001b[39;49m\u001b[43m)\u001b[49m\n\u001b[0;32m     20\u001b[0m \u001b[38;5;28;01mreturn\u001b[39;00m d\n",
      "\u001b[1;31mTypeError\u001b[0m: 'int' object is not callable"
     ]
    }
   ],
   "source": [
    "# Problem\n",
    "#we are given 2D coordinates of following points (0,1), (2,4), (3,6), and (7,7).\n",
    "\n",
    "#1. Store following data in python and write a function to determint distance between two points.\n",
    "#1. Write a function to estimate polar coordinate of any point.\n",
    "#1. Write a function that moves point and determines new position when movement is given\n",
    "\n",
    "import math\n",
    "p1={\"x\":0,\"y\":1}\n",
    "p2={\"x\":2,\"y\":4}\n",
    "p3={\"x\":3,\"y\":6}\n",
    "p4={\"x\":7,\"y\":7}\n",
    "p5={\"x\":1,\"y\":0}\n",
    "def distance(p1,p2):\n",
    "    x1=p1[\"x\"]\n",
    "    x2=p2[\"x\"]\n",
    "    y1=p1[\"y\"]\n",
    "    y2=p2[\"y\"]\n",
    "    d=((x2-x1)^2 + (y2-y2)^2)(1/2)\n",
    "    return d;\n",
    "\n",
    "def polar(p1):\n",
    "    x=p1[\"x\"]\n",
    "    y=p1[\"y\"]\n",
    "    r=math.sqrt(x*2 + y*2)\n",
    "    theta=math.atan2(y,x)\n",
    "    phi=math.degrees(theta);\n",
    "    return(r,phi)\n",
    "#distance between two points \n",
    "print(distance(p3,p4))\n",
    "#calculate polar coordinate \n",
    "print(polar(p1))"
   ]
  },
  {
   "cell_type": "code",
   "execution_count": null,
   "id": "a3da6587-2c4c-46f8-8e08-bf2501711050",
   "metadata": {},
   "outputs": [],
   "source": []
  }
 ],
 "metadata": {
  "kernelspec": {
   "display_name": "Python 3 (ipykernel)",
   "language": "python",
   "name": "python3"
  },
  "language_info": {
   "codemirror_mode": {
    "name": "ipython",
    "version": 3
   },
   "file_extension": ".py",
   "mimetype": "text/x-python",
   "name": "python",
   "nbconvert_exporter": "python",
   "pygments_lexer": "ipython3",
   "version": "3.12.6"
  }
 },
 "nbformat": 4,
 "nbformat_minor": 5
}
