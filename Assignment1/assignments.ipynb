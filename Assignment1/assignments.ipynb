{
 "cells": [
  {
   "cell_type": "code",
   "execution_count": 2,
   "id": "3fed5e79-7867-4316-9c8e-c48a81caa7e9",
   "metadata": {},
   "outputs": [
    {
     "name": "stdin",
     "output_type": "stream",
     "text": [
      "Enter the first number:  4\n",
      "Enter the second number:  6\n",
      "Enter the third number:  3\n"
     ]
    },
    {
     "name": "stdout",
     "output_type": "stream",
     "text": [
      "The average of the three numbers is: 4.33\n"
     ]
    }
   ],
   "source": [
    "#average of 3 numbers using users input\n",
    "\n",
    "number1 = float(input(\"Enter the first number: \"))  # Prompt for the first number\n",
    "number2 = float(input(\"Enter the second number: \")) # Prompt for the second number\n",
    "number3 = float(input(\"Enter the third number: \"))   # Prompt for the third number\n",
    "\n",
    "    # Calculate the average\n",
    "average = (number1+ number2+ number3)/3\n",
    "\n",
    "    # Display the result using % formatting\n",
    "print(\"The average of the three numbers is: %.2f\" % average)\n"
   ]
  },
  {
   "cell_type": "code",
   "execution_count": 3,
   "id": "955d2415-424f-4267-bc66-8a7b772c092f",
   "metadata": {},
   "outputs": [
    {
     "name": "stdin",
     "output_type": "stream",
     "text": [
      "enter length 3\n",
      "enter width 5\n"
     ]
    },
    {
     "name": "stdout",
     "output_type": "stream",
     "text": [
      "Area = 15\n"
     ]
    }
   ],
   "source": [
    "#Area of the rectangle\n",
    "\n",
    "x=int(input(\"enter length\")) # taking input for length\n",
    "y=int(input(\"enter width\"))  # taking input for breadth\n",
    "area= x*y\n",
    "print(\"Area =\",area)\n"
   ]
  },
  {
   "cell_type": "code",
   "execution_count": 4,
   "id": "17795fd1-a533-4c58-a04a-cf36b1a0f7ab",
   "metadata": {},
   "outputs": [
    {
     "name": "stdin",
     "output_type": "stream",
     "text": [
      "Enter a number:  34\n"
     ]
    },
    {
     "name": "stdout",
     "output_type": "stream",
     "text": [
      "Integer value: 34\n",
      "Float value: 34.0\n",
      "Complex value: (34+0j)\n"
     ]
    }
   ],
   "source": [
    "#converting into different numeric data types\n",
    "\n",
    "user_input = input(\"Enter a number: \")\n",
    "\n",
    "# Convert input to different numeric data types\n",
    "try:\n",
    "    # Convert to integer\n",
    "    integer_value = int(user_input)\n",
    "    print(f\"Integer value: {integer_value}\")\n",
    "except ValueError:\n",
    "    print(\"Invalid input for integer conversion.\")\n",
    "\n",
    "try:\n",
    "    # Convert to float\n",
    "    float_value = float(user_input)\n",
    "    print(f\"Float value: {float_value}\")\n",
    "except ValueError:\n",
    "    print(\"Invalid input for float conversion.\")\n",
    "\n",
    "try:\n",
    "    # Convert to complex\n",
    "    complex_value = complex(user_input)\n",
    "    print(f\"Complex value: {complex_value}\")\n",
    "except ValueError:\n",
    "    print(\"Invalid input for complex conversion.\")\n"
   ]
  },
  {
   "cell_type": "code",
   "execution_count": 9,
   "id": "a79a14a6-772e-4409-b6de-d65bea2d7c8a",
   "metadata": {},
   "outputs": [
    {
     "name": "stdin",
     "output_type": "stream",
     "text": [
      "Enter the length of the rectangle:  5.3\n",
      "Enter the width of the rectangle:  3.3\n"
     ]
    },
    {
     "name": "stdout",
     "output_type": "stream",
     "text": [
      "The area of the rectangle is: 17.49 square units\n"
     ]
    }
   ],
   "source": [
    "#modifying the rectangle area program\n",
    "#using format method\n",
    "\n",
    "try:\n",
    "    length = float(input(\"Enter the length of the rectangle: \"))  # Prompt for length\n",
    "    width = float(input(\"Enter the width of the rectangle: \"))    # Prompt for width\n",
    "\n",
    "    # Calculate the area\n",
    "    area = length * width\n",
    "\n",
    "    # Display the result formatted to two decimal places\n",
    "    print(\"The area of the rectangle is: {:.2f} square units\".format(area))\n",
    "except ValueError:\n",
    "    print(\"Please enter valid numerical values for length and width.\")\n"
   ]
  },
  {
   "cell_type": "code",
   "execution_count": 10,
   "id": "6e10309a-79db-41e2-85dd-29b662c5ab16",
   "metadata": {},
   "outputs": [
    {
     "name": "stdout",
     "output_type": "stream",
     "text": [
      "Hello, Python World!\n"
     ]
    }
   ],
   "source": [
    "# Print Hello,Python World\n",
    "print(\"Hello, Python World!\")\n"
   ]
  },
  {
   "cell_type": "code",
   "execution_count": 11,
   "id": "8f86971f-c67e-48c5-8e85-373bd0993398",
   "metadata": {},
   "outputs": [
    {
     "name": "stdin",
     "output_type": "stream",
     "text": [
      "Enter your first name:  abhigyan\n",
      "Enter your last name:  raushan\n"
     ]
    },
    {
     "name": "stdout",
     "output_type": "stream",
     "text": [
      "Your name in reverse order: raushan abhigyan\n"
     ]
    }
   ],
   "source": [
    "#swapping first and last name\n",
    "#Get the user's first and last name as input\n",
    "\n",
    "first_name = input(\"Enter your first name: \")\n",
    "last_name = input(\"Enter your last name: \")\n",
    "\n",
    "# Reverse the order of the names\n",
    "reversed_name = last_name + \" \" + first_name\n",
    "\n",
    "# Print the reversed name\n",
    "print(\"Your name in reverse order:\", reversed_name)\n",
    "\n"
   ]
  },
  {
   "cell_type": "code",
   "execution_count": 12,
   "id": "69b4f6a5-2ca7-490f-859f-715542f8cca5",
   "metadata": {},
   "outputs": [
    {
     "name": "stdin",
     "output_type": "stream",
     "text": [
      "Enter an integer:  34\n"
     ]
    },
    {
     "name": "stdout",
     "output_type": "stream",
     "text": [
      "Binary: 100010\n",
      "Octal: 42\n",
      "Hexadecimal: 22\n"
     ]
    }
   ],
   "source": [
    "# Function to convert an integer to binary, octal, and hexadecimal\n",
    "\n",
    "\n",
    "def convert_number(num):\n",
    "    # Initialize empty strings for binary, octal, and hexadecimal\n",
    "    binary = \"\"\n",
    "    octal = \"\"\n",
    "    hexadecimal = \"\"\n",
    "\n",
    "    # Convert to binary using bitwise operators\n",
    "    for i in range(31, -1, -1):  # Loop from 31 to 0 for a 32-bit representation\n",
    "        if num & (1 << i):  # Check if the ith bit is set\n",
    "            binary += \"1\"\n",
    "        else:\n",
    "            binary += \"0\"\n",
    "\n",
    "    # Remove leading zeros from binary representation\n",
    "    binary = binary.lstrip(\"0\") or \"0\"  # Ensure at least one '0' if the number is 0\n",
    "\n",
    "    # Convert to octal using bitwise operators\n",
    "    temp_num = num\n",
    "    while temp_num > 0:\n",
    "        octal = str(temp_num & 7) + octal  # Get the last 3 bits (octal digit)\n",
    "        temp_num >>= 3  # Right shift by 3 bits to process the next octal digit\n",
    "\n",
    "    # If the number is 0, set octal to \"0\"\n",
    "    if num == 0:\n",
    "        octal = \"0\"\n",
    "\n",
    "    # Convert to hexadecimal using bitwise operators\n",
    "    temp_num = num\n",
    "    while temp_num > 0:\n",
    "        hex_digit = temp_num & 15  # Get the last 4 bits (hexadecimal digit)\n",
    "        if hex_digit < 10:\n",
    "            hexadecimal = str(hex_digit) + hexadecimal  # Convert to string\n",
    "        else:\n",
    "            hexadecimal = chr(hex_digit - 10 + ord('A')) + hexadecimal  # Convert to A-F\n",
    "        temp_num >>= 4  # Right shift by 4 bits to process the next hex digit\n",
    "\n",
    "    # If the number is 0, set hexadecimal to \"0\"\n",
    "    if num == 0:\n",
    "        hexadecimal = \"0\"\n",
    "\n",
    "    return binary, octal, hexadecimal\n",
    "\n",
    "# Get user input\n",
    "try:\n",
    "    number = int(input(\"Enter an integer: \"))  # Prompt for an integer\n",
    "\n",
    "    # Convert the number and get its representations\n",
    "    binary_rep, octal_rep, hex_rep = convert_number(number)\n",
    "\n",
    "    # Display the results\n",
    "    print(f\"Binary: {binary_rep}\")\n",
    "    print(f\"Octal: {octal_rep}\")\n",
    "    print(f\"Hexadecimal: {hex_rep}\")\n",
    "except ValueError:\n",
    "    print(\"Please enter a valid integer.\")\n",
    "\n"
   ]
  },
  {
   "cell_type": "code",
   "execution_count": 14,
   "id": "72132abe-e066-473a-8765-e21e0a693542",
   "metadata": {},
   "outputs": [
    {
     "name": "stdin",
     "output_type": "stream",
     "text": [
      "Enter the first number:  21\n",
      "Enter the second number:  42\n"
     ]
    },
    {
     "name": "stdout",
     "output_type": "stream",
     "text": [
      "One number is even and the other is odd.\n"
     ]
    }
   ],
   "source": [
    "# Function to determine if the numbers are even or odd\n",
    "def check_even_odd(num1, num2):\n",
    "    # Check if both numbers are even\n",
    "    if num1 % 2 == 0 and num2 % 2 == 0:\n",
    "        return \"Both numbers are even.\"\n",
    "    # Check if both numbers are odd\n",
    "    elif num1 % 2 != 0 and num2 % 2 != 0:\n",
    "        return \"Both numbers are odd.\"\n",
    "    # If one is even and the other is odd\n",
    "    else:\n",
    "        return \"One number is even and the other is odd.\"\n",
    "\n",
    "# Get user input for two numbers\n",
    "try:\n",
    "    number1 = float(input(\"Enter the first number: \"))  # Prompt for the first number\n",
    "    number2 = float(input(\"Enter the second number: \")) # Prompt for the second number\n",
    "\n",
    "    # Ensure that the numbers are integers for even/odd check\n",
    "    if number1.is_integer() and number2.is_integer():\n",
    "        # Call the function to check even or odd\n",
    "        result = check_even_odd(int(number1), int(number2))\n",
    "        # Display the result\n",
    "        print(result)\n",
    "    else:\n",
    "        print(\"Please enter valid integer values for even/odd check.\")\n",
    "except ValueError:\n",
    "    print(\"Please enter valid numerical values.\")\n"
   ]
  },
  {
   "cell_type": "code",
   "execution_count": 15,
   "id": "9a22c8f6-14bf-4d58-8cc3-a05730514385",
   "metadata": {},
   "outputs": [
    {
     "name": "stdin",
     "output_type": "stream",
     "text": [
      "enter the number 34\n"
     ]
    },
    {
     "name": "stdout",
     "output_type": "stream",
     "text": [
      "positive\n"
     ]
    }
   ],
   "source": [
    "# Function to determine if the number is positive, negative, or zero\n",
    "\n",
    "number=int(input(\"enter the number\"))\n",
    "\n",
    "if number > 0:\n",
    "    print(\"positive\")\n",
    "elif number < 0:\n",
    "    print(\"negative\")\n",
    "else:\n",
    "    print(\"zero\")\n"
   ]
  },
  {
   "cell_type": "code",
   "execution_count": 16,
   "id": "cad85145-a7ce-4228-845c-ff5203a83818",
   "metadata": {},
   "outputs": [
    {
     "name": "stdout",
     "output_type": "stream",
     "text": [
      "\n",
      "Converted String to upper case:\n",
      "HELLO UPES DEHRADUN\n",
      "\n",
      "Converted String to lower case:\n",
      "hello upes dehradun\n"
     ]
    }
   ],
   "source": [
    "# upper() function to convert\n",
    "# string to upper case\n",
    "text = 'HellO Upes DehradUn'\n",
    "\n",
    "print(\"\\nConverted String to upper case:\")\n",
    "print(text.upper())\n",
    "\n",
    "# lower() function to convert\n",
    "# string to lower case\n",
    "print(\"\\nConverted String to lower case:\")\n",
    "print(text.lower())\n",
    "\n",
    "\n",
    "\n",
    "#String methods used are\n",
    "#lower():Converts all uppercase characters in a string into lowercase\n",
    "#Upper(): Converts all lowercase characters in a string into uppercase\n"
   ]
  },
  {
   "cell_type": "code",
   "execution_count": 17,
   "id": "b907eb12-ae58-40e2-82d4-6e7fd8cc92ce",
   "metadata": {},
   "outputs": [
    {
     "name": "stdin",
     "output_type": "stream",
     "text": [
      "Enter a number (or type 'exit' to quit):  exit\n"
     ]
    },
    {
     "name": "stdout",
     "output_type": "stream",
     "text": [
      "Exiting the program. Goodbye!\n"
     ]
    }
   ],
   "source": [
    "while True:\n",
    "    user_input = input(\"Enter a number (or type 'exit' to quit): \")  # Prompt for a number\n",
    "\n",
    "    if user_input.lower() == 'exit':  # Check if the user wants to exit\n",
    "        print(\"Exiting the program. Goodbye!\")\n",
    "        break  # Exit the loop\n",
    "\n",
    "    try:\n",
    "        # Convert input to float\n",
    "        number = float(user_input)\n",
    "\n",
    "        # Determine the type of the number\n",
    "        number_type = number_type(number)\n",
    "\n",
    "        # Display the result\n",
    "        print(f\"The number you entered is {number_type}.\")\n",
    "    except ValueError:\n",
    "        print(\"Please enter a valid numerical value.\")\n",
    "\n"
   ]
  },
  {
   "cell_type": "code",
   "execution_count": null,
   "id": "97acbf86-d3a9-41eb-b76c-8fa3e23262e2",
   "metadata": {},
   "outputs": [],
   "source": []
  }
 ],
 "metadata": {
  "kernelspec": {
   "display_name": "Python 3 (ipykernel)",
   "language": "python",
   "name": "python3"
  },
  "language_info": {
   "codemirror_mode": {
    "name": "ipython",
    "version": 3
   },
   "file_extension": ".py",
   "mimetype": "text/x-python",
   "name": "python",
   "nbconvert_exporter": "python",
   "pygments_lexer": "ipython3",
   "version": "3.12.6"
  }
 },
 "nbformat": 4,
 "nbformat_minor": 5
}
